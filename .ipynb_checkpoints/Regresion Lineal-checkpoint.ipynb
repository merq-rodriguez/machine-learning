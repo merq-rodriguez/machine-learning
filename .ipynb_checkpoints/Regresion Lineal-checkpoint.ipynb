{
 "cells": [
  {
   "cell_type": "code",
   "execution_count": 1,
   "metadata": {
    "collapsed": true
   },
   "outputs": [],
   "source": [
    "import pandas as pd\n",
    "import numpy as np\n",
    "from sklearn import linear_model\n",
    "from sklearn.metrics import r2_score\n",
    "import matplotlib.pyplot as plt"
   ]
  },
  {
   "cell_type": "code",
   "execution_count": 2,
   "metadata": {},
   "outputs": [],
   "source": [
    "regr = linear_model.LinearRegression()\n",
    "\n",
    "datos = pd.read_csv('movies2.csv')\n",
    "df = pd.DataFrame(datos)\n",
    "x = df['movie_facebook_likes']\n",
    "y = df['imdb_score'] #Valor real"
   ]
  },
  {
   "cell_type": "code",
   "execution_count": 3,
   "metadata": {
    "collapsed": true
   },
   "outputs": [],
   "source": [
    "X = x[:,np.newaxis]\n",
    "#print(X)"
   ]
  },
  {
   "cell_type": "code",
   "execution_count": 4,
   "metadata": {},
   "outputs": [
    {
     "name": "stdout",
     "output_type": "stream",
     "text": [
      "LinearRegression(copy_X=True, fit_intercept=True, n_jobs=1, normalize=False)\n",
      "[  3.84816446e-06]\n",
      "y = 3.848164464699828e-06x + 6.917083915777934\n",
      "========================================================\n",
      "[ 7.04407334  6.91708392  7.2441779   7.54818289  6.91708392]\n"
     ]
    }
   ],
   "source": [
    "print(regr.fit(X,y))\n",
    "print(regr.coef_)\n",
    "m = regr.coef_[0]\n",
    "b = regr.intercept_\n",
    "y_p = m*X+b #Valor de prediccion\n",
    "print('y = {0}x + {1}'.format(m,b))\n",
    "print(regr.predict(X)[0:5])"
   ]
  },
  {
   "cell_type": "code",
   "execution_count": 5,
   "metadata": {},
   "outputs": [
    {
     "name": "stdout",
     "output_type": "stream",
     "text": [
      "El valor de R^2 es:  0.139183610834\n"
     ]
    }
   ],
   "source": [
    "print(\"El valor de R^2 es: \", r2_score(y, y_p)) #Queremos que calcule la desviacion de los datos"
   ]
  },
  {
   "cell_type": "code",
   "execution_count": 6,
   "metadata": {},
   "outputs": [
    {
     "data": {
      "image/png": "[encoded data removed]",
      "text/plain": [
       "<matplotlib.figure.Figure at 0x7f28b1977518>"
      ]
     },
     "metadata": {},
     "output_type": "display_data"
    }
   ],
   "source": [
    "plt.scatter(X,y,color=\"blue\")\n",
    "plt.plot(X,y_p,color=\"red\")\n",
    "plt.title(\"Regresion Lineal\", fontsize= 16)\n",
    "plt.xlabel(\"Like Facebook\", fontsize=13)\n",
    "plt.ylabel(\"Calificacion IMDB\",fontsize=13)\n",
    "plt.show()"
   ]
  },
  {
   "cell_type": "code",
   "execution_count": null,
   "metadata": {
    "collapsed": true
   },
   "outputs": [],
   "source": []
  },
  {
   "cell_type": "code",
   "execution_count": null,
   "metadata": {
    "collapsed": true
   },
   "outputs": [],
   "source": []
  }
 ],
 "metadata": {
  "kernelspec": {
   "display_name": "Python 3",
   "language": "python",
   "name": "python3"
  },
  "language_info": {
   "codemirror_mode": {
    "name": "ipython",
    "version": 3
   },
   "file_extension": ".py",
   "mimetype": "text/x-python",
   "name": "python",
   "nbconvert_exporter": "python",
   "pygments_lexer": "ipython3",
   "version": "3.5.2"
  }
 },
 "nbformat": 4,
 "nbformat_minor": 2
}
