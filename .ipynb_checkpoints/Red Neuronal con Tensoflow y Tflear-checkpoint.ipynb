{
 "cells": [
  {
   "cell_type": "code",
   "execution_count": 1,
   "metadata": {
    "collapsed": true
   },
   "outputs": [],
   "source": [
    "import numpy as np\n",
    "import tensorflow as tf\n",
    "import tflearn\n",
    "import tflearn.datasets.mnist as mnist"
   ]
  },
  {
   "cell_type": "code",
   "execution_count": 2,
   "metadata": {},
   "outputs": [
    {
     "name": "stdout",
     "output_type": "stream",
     "text": [
      "Downloading MNIST...\n",
      "Succesfully downloaded train-images-idx3-ubyte.gz 9912422 bytes.\n",
      "Extracting mnist/train-images-idx3-ubyte.gz\n",
      "Downloading MNIST...\n",
      "Succesfully downloaded train-labels-idx1-ubyte.gz 28881 bytes.\n",
      "Extracting mnist/train-labels-idx1-ubyte.gz\n",
      "Downloading MNIST...\n",
      "Succesfully downloaded t10k-images-idx3-ubyte.gz 1648877 bytes.\n",
      "Extracting mnist/t10k-images-idx3-ubyte.gz\n",
      "Downloading MNIST...\n",
      "Succesfully downloaded t10k-labels-idx1-ubyte.gz 4542 bytes.\n",
      "Extracting mnist/t10k-labels-idx1-ubyte.gz\n"
     ]
    }
   ],
   "source": [
    "trainX, trainY, testX, testY = mnist.load_data(one_hot=True)"
   ]
  },
  {
   "cell_type": "code",
   "execution_count": 3,
   "metadata": {
    "collapsed": true
   },
   "outputs": [],
   "source": [
    "entradas = 784\n",
    "capa1 = 128\n",
    "capa2 = 128\n",
    "clases = 10"
   ]
  },
  {
   "cell_type": "code",
   "execution_count": 9,
   "metadata": {
    "collapsed": true
   },
   "outputs": [],
   "source": [
    "def initModel():\n",
    "    tf.reset_default_graph()\n",
    "    red = tflearn.input_data([None, entradas])\n",
    "    #Fully_conected -> quiere decir que toda la capa anterior esta conectada a la siguiente completamente\n",
    "    red = tflearn.fully_connected(red, capa1, activation='ReLU')\n",
    "    red = tflearn.fully_connected(red, capa2, activation='ReLU')\n",
    "    red = tflearn.fully_connected(red, clases, activation='softmax')#Nuestra ultima capa va a tener 10 neuronas\n",
    "    \n",
    "    red = tflearn.regression(red, \n",
    "                             optimizer='sgd', #Utilizamos de optimizador gradiante descendiente estocastica\n",
    "                             learning_rate=0.01, #Tasa de aprendizaje. Por lo general la dejamos baja y la modificamos segun sea necesario\n",
    "                             loss= 'categorical_crossentropy' #Funcion de perdida: Entropia cruzada\n",
    "                            )\n",
    "    #Carga en modelo toda la estructura de la red\n",
    "    #DNN: Red Neuronal Profunda (Deep Neuronal Network)\n",
    "    modelo = tflearn.DNN(red) \n",
    "    return modelo"
   ]
  },
  {
   "cell_type": "code",
   "execution_count": 10,
   "metadata": {},
   "outputs": [],
   "source": [
    "modelo = initModel()"
   ]
  },
  {
   "cell_type": "code",
   "execution_count": 11,
   "metadata": {},
   "outputs": [
    {
     "name": "stdout",
     "output_type": "stream",
     "text": [
      "Training Step: 9899  | total loss: \u001b[1m\u001b[32m0.31124\u001b[0m\u001b[0m | time: 1.522s\n",
      "| SGD | epoch: 100 | loss: 0.31124 - acc: 0.9199 -- iter: 49000/49500\n",
      "Training Step: 9900  | total loss: \u001b[1m\u001b[32m0.30931\u001b[0m\u001b[0m | time: 2.542s\n",
      "| SGD | epoch: 100 | loss: 0.30931 - acc: 0.9213 | val_loss: 0.28964 - val_acc: 0.9175 -- iter: 49500/49500\n",
      "--\n"
     ]
    }
   ],
   "source": [
    "modelo.fit(trainX, trainY, validation_set=0.1, show_metric=True, batch_size=500, n_epoch=100)"
   ]
  },
  {
   "cell_type": "code",
   "execution_count": 15,
   "metadata": {},
   "outputs": [
    {
     "name": "stdout",
     "output_type": "stream",
     "text": [
      "La certesa es de:  91.95 %\n"
     ]
    }
   ],
   "source": [
    "predicciones = np.array(modelo.predict(testX)).argmax(axis=1)\n",
    "correctas = testY.argmax(axis=1)\n",
    "certeza = np.mean(predicciones == correctas, axis=0)\n",
    "print(\"La certesa es de: \", certeza*100,\"%\")"
   ]
  },
  {
   "cell_type": "code",
   "execution_count": null,
   "metadata": {
    "collapsed": true
   },
   "outputs": [],
   "source": []
  }
 ],
 "metadata": {
  "kernelspec": {
   "display_name": "Python 3",
   "language": "python",
   "name": "python3"
  },
  "language_info": {
   "codemirror_mode": {
    "name": "ipython",
    "version": 3
   },
   "file_extension": ".py",
   "mimetype": "text/x-python",
   "name": "python",
   "nbconvert_exporter": "python",
   "pygments_lexer": "ipython3",
   "version": "3.5.2"
  }
 },
 "nbformat": 4,
 "nbformat_minor": 2
}
