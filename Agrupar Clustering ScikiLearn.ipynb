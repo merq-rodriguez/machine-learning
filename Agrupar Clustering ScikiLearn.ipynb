{
 "cells": [
  {
   "cell_type": "code",
   "execution_count": 24,
   "metadata": {
    "collapsed": true
   },
   "outputs": [],
   "source": [
    "import pandas as pd\n",
    "import numpy as np\n",
    "import matplotlib.pyplot as plt\n",
    "from sklearn.cluster import KMeans"
   ]
  },
  {
   "cell_type": "code",
   "execution_count": 25,
   "metadata": {
    "collapsed": true
   },
   "outputs": [],
   "source": [
    "datos = pd.read_csv('/home/moviescs.csv')\n",
    "df = pd.DataFrame(datos)"
   ]
  },
  {
   "cell_type": "code",
   "execution_count": 26,
   "metadata": {},
   "outputs": [
    {
     "name": "stdout",
     "output_type": "stream",
     "text": [
      "Valor maximo de likes:  170118\n",
      "Valor minimo de likes:  57426\n",
      "Promedio de likes de las peliculas:  77873.5555556\n"
     ]
    }
   ],
   "source": [
    "x = df['cast_total_facebook_likes'].values\n",
    "y = df['imdb_score'].values\n",
    "maximo = df['cast_total_facebook_likes'].max()\n",
    "minimo = df['cast_total_facebook_likes'].min()\n",
    "mean = df['cast_total_facebook_likes'].mean()\n",
    "\n",
    "print(\"Valor maximo de likes: \", maximo)\n",
    "print(\"Valor minimo de likes: \", minimo)\n",
    "print(\"Promedio de likes de las peliculas: \", mean)"
   ]
  },
  {
   "cell_type": "code",
   "execution_count": 39,
   "metadata": {},
   "outputs": [],
   "source": [
    "info = df[['cast_total_facebook_likes', 'imdb_score']].as_matrix()\n",
    "#print(info)\n",
    "X = np.array(list(zip(x,y)))\n",
    "kmeans = KMeans(n_clusters = 3)\n",
    "kmeans = kmeans.fit(X) #Ajuste de datos\n",
    "labels = kmeans.predict(X)\n",
    "centroids = kmeans.cluster_centers_\n",
    "\n",
    "colors = [\"m.\", \"r.\", \"c.\", \"t.\", \"b.\"]"
   ]
  },
  {
   "cell_type": "code",
   "execution_count": 40,
   "metadata": {},
   "outputs": [
    {
     "name": "stdout",
     "output_type": "stream",
     "text": [
      "Coordenada:  [  1.70118000e+05   6.40000000e+00] Label:  2\n",
      "Coordenada:  [  1.40268000e+05   6.00000000e+00] Label:  2\n",
      "Coordenada:  [  1.37712000e+05   5.70000000e+00] Label:  2\n",
      "Coordenada:  [  1.20797000e+05   6.00000000e+00] Label:  2\n",
      "Coordenada:  [  1.08016000e+05   5.40000000e+00] Label:  1\n",
      "Coordenada:  [  1.06759000e+05   8.50000000e+00] Label:  1\n",
      "Coordenada:  [  1.03354000e+05   6.60000000e+00] Label:  1\n",
      "Coordenada:  [  1.01383000e+05   5.80000000e+00] Label:  1\n",
      "Coordenada:  [  9.24560000e+04   5.60000000e+00] Label:  1\n",
      "Coordenada:  [  9.20000000e+04   7.50000000e+00] Label:  1\n",
      "Coordenada:  [  9.14340000e+04   8.00000000e+00] Label:  1\n",
      "Coordenada:  [  8.92630000e+04   6.70000000e+00] Label:  1\n",
      "Coordenada:  [  8.89530000e+04   7.00000000e+00] Label:  1\n",
      "Coordenada:  [  8.84220000e+04   4.90000000e+00] Label:  1\n",
      "Coordenada:  [  8.76970000e+04   8.10000000e+00] Label:  1\n",
      "Coordenada:  [  8.76970000e+04   8.10000000e+00] Label:  1\n",
      "Coordenada:  [  8.30120000e+04   7.30000000e+00] Label:  1\n",
      "Coordenada:  [  8.13850000e+04   6.60000000e+00] Label:  1\n",
      "Coordenada:  [  8.13850000e+04   6.70000000e+00] Label:  1\n",
      "Coordenada:  [  8.11150000e+04   8.80000000e+00] Label:  1\n",
      "Coordenada:  [  8.08490000e+04   6.20000000e+00] Label:  1\n",
      "Coordenada:  [  8.08060000e+04   6.40000000e+00] Label:  1\n",
      "Coordenada:  [  7.99570000e+04   6.50000000e+00] Label:  1\n",
      "Coordenada:  [  7.99570000e+04   6.50000000e+00] Label:  1\n",
      "Coordenada:  [  7.91500000e+04   7.20000000e+00] Label:  1\n",
      "Coordenada:  [  7.78230000e+04   6.70000000e+00] Label:  1\n",
      "Coordenada:  [  7.70460000e+04   6.40000000e+00] Label:  1\n",
      "Coordenada:  [  7.57930000e+04   6.60000000e+00] Label:  0\n",
      "Coordenada:  [  7.43820000e+04   6.70000000e+00] Label:  0\n",
      "Coordenada:  [  7.41810000e+04   5.60000000e+00] Label:  0\n",
      "Coordenada:  [  7.34410000e+04   6.40000000e+00] Label:  0\n",
      "Coordenada:  [  7.34410000e+04   6.40000000e+00] Label:  0\n",
      "Coordenada:  [  7.28810000e+04   6.10000000e+00] Label:  0\n",
      "Coordenada:  [  7.21150000e+04   7.80000000e+00] Label:  0\n",
      "Coordenada:  [  7.19730000e+04   5.70000000e+00] Label:  0\n",
      "Coordenada:  [  7.09960000e+04   6.50000000e+00] Label:  0\n",
      "Coordenada:  [  6.97460000e+04   7.80000000e+00] Label:  0\n",
      "Coordenada:  [  6.47980000e+04   8.20000000e+00] Label:  0\n",
      "Coordenada:  [  6.45990000e+04   7.00000000e+00] Label:  0\n",
      "Coordenada:  [  6.42590000e+04   6.70000000e+00] Label:  0\n",
      "Coordenada:  [  6.40400000e+04   4.60000000e+00] Label:  0\n",
      "Coordenada:  [  6.39860000e+04   8.50000000e+00] Label:  0\n",
      "Coordenada:  [  6.37690000e+04   7.00000000e+00] Label:  0\n",
      "Coordenada:  [  6.37100000e+04   8.30000000e+00] Label:  0\n",
      "Coordenada:  [  6.31940000e+04   6.70000000e+00] Label:  0\n",
      "Coordenada:  [  6.31650000e+04   6.00000000e+00] Label:  0\n",
      "Coordenada:  [  6.28370000e+04   6.00000000e+00] Label:  0\n",
      "Coordenada:  [  6.26440000e+04   5.90000000e+00] Label:  0\n",
      "Coordenada:  [  6.11100000e+04   7.20000000e+00] Label:  0\n",
      "Coordenada:  [  6.06830000e+04   7.40000000e+00] Label:  0\n",
      "Coordenada:  [  6.06460000e+04   7.10000000e+00] Label:  0\n",
      "Coordenada:  [  6.00590000e+04   7.00000000e+00] Label:  0\n",
      "Coordenada:  [  5.98030000e+04   7.10000000e+00] Label:  0\n",
      "Coordenada:  [  5.95580000e+04   8.30000000e+00] Label:  0\n",
      "Coordenada:  [  5.91770000e+04   5.50000000e+00] Label:  0\n",
      "Coordenada:  [  5.91770000e+04   5.50000000e+00] Label:  0\n",
      "Coordenada:  [  5.88230000e+04   7.80000000e+00] Label:  0\n",
      "Coordenada:  [  5.87530000e+04   7.50000000e+00] Label:  0\n",
      "Coordenada:  [  5.85280000e+04   6.30000000e+00] Label:  0\n",
      "Coordenada:  [  5.78810000e+04   6.70000000e+00] Label:  0\n",
      "Coordenada:  [  5.78440000e+04   6.70000000e+00] Label:  0\n",
      "Coordenada:  [  5.78020000e+04   9.00000000e+00] Label:  0\n",
      "Coordenada:  [  5.74260000e+04   7.40000000e+00] Label:  0\n"
     ]
    },
    {
     "data": {
      "image/png": "[encoded data removed]",
      "text/plain": [
       "<matplotlib.figure.Figure at 0x7f950e8bd8d0>"
      ]
     },
     "metadata": {},
     "output_type": "display_data"
    }
   ],
   "source": [
    "for i in range(len(X)):\n",
    "    print(\"Coordenada: \", X[i], \"Label: \", labels[i])\n",
    "    plt.plot(X[i][0], X[i][1], colors[labels[i]], markersize=10)\n",
    "\n",
    "plt.scatter(centroids[:, 0], centroids[:, 1], marker='x', s=150, linewidths=5, zorder = 10)\n",
    "plt.show()"
   ]
  },
  {
   "cell_type": "code",
   "execution_count": null,
   "metadata": {
    "collapsed": true
   },
   "outputs": [],
   "source": []
  },
  {
   "cell_type": "code",
   "execution_count": null,
   "metadata": {
    "collapsed": true
   },
   "outputs": [],
   "source": []
  }
 ],
 "metadata": {
  "kernelspec": {
   "display_name": "Python 3",
   "language": "python",
   "name": "python3"
  },
  "language_info": {
   "codemirror_mode": {
    "name": "ipython",
    "version": 3
   },
   "file_extension": ".py",
   "mimetype": "text/x-python",
   "name": "python",
   "nbconvert_exporter": "python",
   "pygments_lexer": "ipython3",
   "version": "3.5.2"
  }
 },
 "nbformat": 4,
 "nbformat_minor": 2
}
