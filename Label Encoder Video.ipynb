{
 "cells": [
  {
   "cell_type": "code",
   "execution_count": 11,
   "metadata": {},
   "outputs": [
    {
     "data": {
      "text/plain": [
       "'\\nfrom sklearn import preprocessing\\nencoder = preprocessing.LabelEncoder()\\nencoder.fit([\\'Pikachu\\', \\'Squirtle\\', \\'Charmander\\', \\'Raichu\\', \\'Raichu\\', \\'Charmander\\'])\\nprint(\"Clases\")\\nprint(list(encoder.classes_))\\n#Convertirmos las etiquetas en numero para poder trabajarlos\\nprueba = encoder.transform([\\'Pikachu\\', \\'Pikachu\\', \\'Charmander\\', \\'Raichu\\', \\'Squirtle\\'])\\nprint(prueba)\\n#Hacemos un atransformacion inversa para saber que etiqueta representa los numeros\\nprint(list(encoder.inverse_transform([2,1,1,3])))\\n'"
      ]
     },
     "execution_count": 11,
     "metadata": {},
     "output_type": "execute_result"
    }
   ],
   "source": [
    "\"\"\"\n",
    "from sklearn import preprocessing\n",
    "encoder = preprocessing.LabelEncoder()\n",
    "encoder.fit(['Pikachu', 'Squirtle', 'Charmander', 'Raichu', 'Raichu', 'Charmander'])\n",
    "print(\"Clases\")\n",
    "print(list(encoder.classes_))\n",
    "#Convertirmos las etiquetas en numero para poder trabajarlos\n",
    "prueba = encoder.transform(['Pikachu', 'Pikachu', 'Charmander', 'Raichu', 'Squirtle'])\n",
    "print(prueba)\n",
    "#Hacemos un atransformacion inversa para saber que etiqueta representa los numeros\n",
    "print(list(encoder.inverse_transform([2,1,1,3])))\n",
    "\"\"\""
   ]
  },
  {
   "cell_type": "code",
   "execution_count": 16,
   "metadata": {
    "collapsed": true
   },
   "outputs": [],
   "source": [
    "import pandas as pd\n",
    "from sklearn.preprocessing import LabelEncoder"
   ]
  },
  {
   "cell_type": "code",
   "execution_count": 21,
   "metadata": {
    "collapsed": true
   },
   "outputs": [],
   "source": [
    "df = pd.read_csv('Pokemon.csv')"
   ]
  },
  {
   "cell_type": "code",
   "execution_count": 22,
   "metadata": {
    "collapsed": true
   },
   "outputs": [],
   "source": [
    "encoder = LabelEncoder()"
   ]
  },
  {
   "cell_type": "code",
   "execution_count": 25,
   "metadata": {},
   "outputs": [
    {
     "name": "stdout",
     "output_type": "stream",
     "text": [
      "   #                   Name   Type  Type 2  Total  HP  Attack  Defense  \\\n",
      "0  1              Bulbasaur  Grass  Poison    318  45      49       49   \n",
      "1  2                Ivysaur  Grass  Poison    405  60      62       63   \n",
      "2  3               Venusaur  Grass  Poison    525  80      82       83   \n",
      "3  3  VenusaurMega Venusaur  Grass  Poison    625  80     100      123   \n",
      "4  4             Charmander   Fire     NaN    309  39      52       43   \n",
      "\n",
      "   Sp. Atk  Sp. Def  Speed  Generation  Legendary  nuevo  \n",
      "0       65       65     45           1      False      9  \n",
      "1       80       80     60           1      False      9  \n",
      "2      100      100     80           1      False      9  \n",
      "3      122      120     80           1      False      9  \n",
      "4       60       50     65           1      False      6  \n"
     ]
    }
   ],
   "source": [
    "df['nuevo'] = encoder.fit_transform(df.Type.values) #Seleccionamos la columna Type\n",
    "print(df.head(5))"
   ]
  },
  {
   "cell_type": "code",
   "execution_count": null,
   "metadata": {
    "collapsed": true
   },
   "outputs": [],
   "source": []
  }
 ],
 "metadata": {
  "kernelspec": {
   "display_name": "Python 3",
   "language": "python",
   "name": "python3"
  },
  "language_info": {
   "codemirror_mode": {
    "name": "ipython",
    "version": 3
   },
   "file_extension": ".py",
   "mimetype": "text/x-python",
   "name": "python",
   "nbconvert_exporter": "python",
   "pygments_lexer": "ipython3",
   "version": "3.5.2"
  }
 },
 "nbformat": 4,
 "nbformat_minor": 2
}
